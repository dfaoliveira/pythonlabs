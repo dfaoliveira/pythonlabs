{
  "nbformat": 4,
  "nbformat_minor": 0,
  "metadata": {
    "colab": {
      "name": "PythonLabs.ipynb",
      "provenance": [],
      "mount_file_id": "14ALFbL_KM1YVdCXAbT4B3Y6xoCOvNeYw",
      "authorship_tag": "ABX9TyNEHHQdYmnxKTi4tHDByE06",
      "include_colab_link": true
    },
    "kernelspec": {
      "name": "python3",
      "display_name": "Python 3"
    },
    "language_info": {
      "name": "python"
    }
  },
  "cells": [
    {
      "cell_type": "markdown",
      "metadata": {
        "id": "view-in-github",
        "colab_type": "text"
      },
      "source": [
        "<a href=\"https://colab.research.google.com/github/dfaoliveira/pythonlabs/blob/main/PythonLabs.ipynb\" target=\"_parent\"><img src=\"https://colab.research.google.com/assets/colab-badge.svg\" alt=\"Open In Colab\"/></a>"
      ]
    },
    {
      "cell_type": "code",
      "execution_count": 1,
      "metadata": {
        "colab": {
          "base_uri": "https://localhost:8080/"
        },
        "id": "-tBY4oRS_YVH",
        "outputId": "95f686e4-cd8a-48f4-83f8-c55dc9b96353"
      },
      "outputs": [
        {
          "output_type": "stream",
          "name": "stdout",
          "text": [
            "Mounted at /content/drive\n"
          ]
        }
      ],
      "source": [
        "from google.colab import drive\n",
        "\n",
        "drive.mount(\"/content/drive\")"
      ]
    },
    {
      "cell_type": "code",
      "source": [
        "ls"
      ],
      "metadata": {
        "colab": {
          "base_uri": "https://localhost:8080/"
        },
        "id": "CrkDilrSEkC4",
        "outputId": "0818a20a-3482-411e-e0b2-365a0ebff182"
      },
      "execution_count": 2,
      "outputs": [
        {
          "output_type": "stream",
          "name": "stdout",
          "text": [
            "\u001b[0m\u001b[01;34mdrive\u001b[0m/  \u001b[01;34msample_data\u001b[0m/\n"
          ]
        }
      ]
    },
    {
      "cell_type": "code",
      "source": [
        "#go to folder to list content\n",
        "\n",
        "!ls /content/drive/MyDrive"
      ],
      "metadata": {
        "colab": {
          "base_uri": "https://localhost:8080/"
        },
        "id": "o29lYW5iEwdw",
        "outputId": "3ca40fd6-0ad6-4917-f476-904064df043f"
      },
      "execution_count": 18,
      "outputs": [
        {
          "output_type": "stream",
          "name": "stdout",
          "text": [
            " 883.gdoc\n",
            "'agentes (1).gdoc'\n",
            " agentes.gdoc\n",
            "'AquisicaoConhecimento (1).gdoc'\n",
            " AquisicaoConhecimento.gdoc\n",
            "'Artigo Científico-v0.gdoc'\n",
            " artigo.gdoc\n",
            "'bases para estudo'\n",
            "'Bike Morretes.gmap'\n",
            " Brasileira_songbooks\n",
            "'Caminho 2.gmap'\n",
            "'CC-PF-2007-1s-Modelo do Plano de Testes-v1.0.gdoc'\n",
            "'Colab Notebooks'\n",
            "'Copy of 49 Mile Drive (San Francisco).gmap'\n",
            "'Copy of Be Internet Awesome: Don'\\''t Fall for Fake, Activity 1 (1).gslides'\n",
            "'Copy of Be Internet Awesome: Don'\\''t Fall for Fake, Activity 1 (2).gslides'\n",
            "\"Copy of Be Internet Awesome: Don't Fall for Fake, Activity 1.gslides\"\n",
            "\"Copy of Be Internet Awesome: Don't Fall for Fake, Activity 2.gslides\"\n",
            "\"Copy of Be Internet Awesome: Don't Fall for Fake, Activity 3.gslides\"\n",
            "\"Copy of Be Internet Awesome: Don't Fall for Fake, Activity 4.gslides\"\n",
            "'Corrida 280310.gmap'\n",
            "'DanielF-Correção (1).gdoc'\n",
            " DanielF-Correção.gdoc\n",
            "'Direito de sonhar.gdoc'\n",
            " docslide.us_chico-buarque-songbook-vol-3.pdf\n",
            " endereco.gdoc\n",
            "'Este Seu Olhar.mp3'\n",
            "'IMG_0964 (1).JPG'\n",
            "'IMG_0964 (2).JPG'\n",
            "'IMG_0964 (3).JPG'\n",
            "'IMG_0964 (4).JPG'\n",
            "'IMG_0964 (5).JPG'\n",
            "'IMG_0964 (6).JPG'\n",
            " IMG_0964.JPG\n",
            "'IMG_0965 (1).JPG'\n",
            "'IMG_0965 (2).JPG'\n",
            "'IMG_0965 (3).JPG'\n",
            "'IMG_0965 (4).JPG'\n",
            "'IMG_0965 (5).JPG'\n",
            "'IMG_0965 (6).JPG'\n",
            " IMG_0965.JPG\n",
            "'IMG_0967 (1).JPG'\n",
            "'IMG_0967 (2).JPG'\n",
            "'IMG_0967 (3).JPG'\n",
            "'IMG_0967 (4).JPG'\n",
            "'IMG_0967 (5).JPG'\n",
            "'IMG_0967 (6).JPG'\n",
            " IMG_0967.JPG\n",
            "'IMG_0968 (1).JPG'\n",
            "'IMG_0968 (2).JPG'\n",
            "'IMG_0968 (3).JPG'\n",
            "'IMG_0968 (4).JPG'\n",
            "'IMG_0968 (5).JPG'\n",
            "'IMG_0968 (6).JPG'\n",
            " IMG_0968.JPG\n",
            "'IMG_0969 (1).JPG'\n",
            "'IMG_0969 (2).JPG'\n",
            "'IMG_0969 (3).JPG'\n",
            " IMG_0969.JPG\n",
            "'IMG_0970 (1).JPG'\n",
            "'IMG_0970 (2).JPG'\n",
            "'IMG_0970 (3).JPG'\n",
            " IMG_0970.JPG\n",
            "'IMG_0971 (1).JPG'\n",
            "'IMG_0971 (2).JPG'\n",
            " IMG_0971.JPG\n",
            "'IMG_0973 (1).JPG'\n",
            "'IMG_0973 (2).JPG'\n",
            " IMG_0973.JPG\n",
            "'IMG_0974 (1).JPG'\n",
            "'IMG_0974 (2).JPG'\n",
            " IMG_0974.JPG\n",
            "'IMG_0975 (1).JPG'\n",
            "'IMG_0975 (2).JPG'\n",
            " IMG_0975.JPG\n",
            "'IMG_0976 (1).JPG'\n",
            "'IMG_0976 (2).JPG'\n",
            " IMG_0976.JPG\n",
            "'IMG_0977 (1).JPG'\n",
            "'IMG_0977 (2).JPG'\n",
            " IMG_0977.JPG\n",
            "'IMG_0978 (1).JPG'\n",
            "'IMG_0978 (2).JPG'\n",
            " IMG_0978.JPG\n",
            "'IMG_0979 (1).JPG'\n",
            "'IMG_0979 (2).JPG'\n",
            " IMG_0979.JPG\n",
            "'IMG_0980 (1).JPG'\n",
            "'IMG_0980 (2).JPG'\n",
            " IMG_0980.JPG\n",
            "'IMG_0981 (1).JPG'\n",
            "'IMG_0981 (2).JPG'\n",
            " IMG_0981.JPG\n",
            "'IMG_0982 (1).JPG'\n",
            "'IMG_0982 (2).JPG'\n",
            " IMG_0982.JPG\n",
            "'IMG_0983 (1).JPG'\n",
            "'IMG_0983 (2).JPG'\n",
            " IMG_0983.JPG\n",
            "'IMG_0984 (1).JPG'\n",
            "'IMG_0984 (2).JPG'\n",
            " IMG_0984.JPG\n",
            "'IMG_0985 (1).JPG'\n",
            " IMG_0985.JPG\n",
            "'IMG_0986 (1).JPG'\n",
            " IMG_0986.JPG\n",
            "'IMG_0987 (1).JPG'\n",
            " IMG_0987.JPG\n",
            " IMG_0989.JPG\n",
            " IMG_0990.JPG\n",
            " IMG_0991.JPG\n",
            " IMG_0992.JPG\n",
            " IMG_0993.JPG\n",
            " IMG_0994.JPG\n",
            " IMG_0995.JPG\n",
            " IMG_0996.JPG\n",
            " IMG_20210416_144616.jpg\n",
            "'Imported from Google Notebook - Meu bloco de notas.gdoc'\n",
            " Madalena.mp3\n",
            "'Move in sheet.JPG'\n",
            "'My Tracks.gsheet'\n",
            "'novo(a) planilha do microsoft excel.gsheet'\n",
            " Nuovo_Progetto_Italiano_1.pdf\n",
            " Partitura\n",
            "'quaderno-degli-esercizi- edizione aggiornata.pdf'\n",
            "'Reconhecimento de padroes estatísticos (1).gdoc'\n",
            "'Reconhecimento de padroes estatísticos.gdoc'\n",
            "'Representação de Conhecimentos (1).gdoc'\n",
            "'Representação de Conhecimentos.gdoc'\n",
            "'resumo_aulas (1).gdoc'\n",
            " resumo_aulas.gdoc\n",
            "'Reunião dia 12 de abril - ATA.gdoc'\n",
            " Sampa.mp3\n",
            " SQXH1015.MP4\n",
            " teste.gsheet\n",
            " thiago.gdoc\n",
            "'Trabalho do primeiro bimestre (1).gdoc'\n",
            "'Trabalho do primeiro bimestre.gdoc'\n",
            "'Você e eu.mp3'\n",
            "'Walking directions to Little Italy, New York, NY, United States.gmap'\n"
          ]
        }
      ]
    },
    {
      "cell_type": "code",
      "source": [
        "!pwd"
      ],
      "metadata": {
        "colab": {
          "base_uri": "https://localhost:8080/"
        },
        "id": "UIs8dtPWGD_i",
        "outputId": "cf580d91-2ea7-40fe-d54f-dc37da5df674"
      },
      "execution_count": 17,
      "outputs": [
        {
          "output_type": "stream",
          "name": "stdout",
          "text": [
            "/content\n"
          ]
        }
      ]
    },
    {
      "cell_type": "code",
      "source": [
        "#list content\n",
        "!ls"
      ],
      "metadata": {
        "colab": {
          "base_uri": "https://localhost:8080/"
        },
        "id": "EzQj2s-EFKbo",
        "outputId": "da2f3efc-f8a8-4532-bc15-e760b28e0391"
      },
      "execution_count": 15,
      "outputs": [
        {
          "output_type": "stream",
          "name": "stdout",
          "text": [
            "drive  sample_data\n"
          ]
        }
      ]
    },
    {
      "cell_type": "code",
      "source": [
        "!wget https://archive.ics.uci.edu/ml/machine-learning-databases/iris/iris.data\n"
      ],
      "metadata": {
        "colab": {
          "base_uri": "https://localhost:8080/"
        },
        "id": "rmQgOpqgJZz2",
        "outputId": "f76a2c52-213d-453c-b6f1-ab477a7f6198"
      },
      "execution_count": 1,
      "outputs": [
        {
          "output_type": "stream",
          "name": "stdout",
          "text": [
            "--2022-02-26 13:09:11--  https://archive.ics.uci.edu/ml/machine-learning-databases/iris/iris.data\n",
            "Resolving archive.ics.uci.edu (archive.ics.uci.edu)... 128.195.10.252\n",
            "Connecting to archive.ics.uci.edu (archive.ics.uci.edu)|128.195.10.252|:443... connected.\n",
            "HTTP request sent, awaiting response... 200 OK\n",
            "Length: 4551 (4.4K) [application/x-httpd-php]\n",
            "Saving to: ‘iris.data’\n",
            "\n",
            "iris.data           100%[===================>]   4.44K  --.-KB/s    in 0s      \n",
            "\n",
            "2022-02-26 13:09:12 (84.3 MB/s) - ‘iris.data’ saved [4551/4551]\n",
            "\n"
          ]
        }
      ]
    },
    {
      "cell_type": "code",
      "source": [
        "!mv iris.data  /content/drive/MyDrive"
      ],
      "metadata": {
        "id": "JgqqDF0rJll3"
      },
      "execution_count": 4,
      "outputs": []
    }
  ]
}